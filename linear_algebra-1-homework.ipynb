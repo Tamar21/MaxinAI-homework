{
 "cells": [
  {
   "cell_type": "code",
   "execution_count": null,
   "metadata": {},
   "outputs": [],
   "source": [
    "%load_ext autoreload\n",
    "%autoreload 2\n",
    "\n",
    "%matplotlib inline"
   ]
  },
  {
   "cell_type": "markdown",
   "metadata": {},
   "source": [
    "## Basic setup"
   ]
  },
  {
   "cell_type": "markdown",
   "metadata": {},
   "source": [
    "Create anaconda environment\n",
    "<br>\n",
    "```bash\n",
    "conda create -n ml python=3.7.4 jupyter\n",
    "```\n",
    "Install fastai library\n",
    "<br>\n",
    "```bash\n",
    "conda install -c pytorch -c fastai fastai\n",
    "```"
   ]
  },
  {
   "cell_type": "markdown",
   "metadata": {},
   "source": [
    "# Set theory basics"
   ]
  },
  {
   "cell_type": "markdown",
   "metadata": {},
   "source": [
    "#### Prove that:\n",
    "<br>\n",
    "$A \\subseteq A$\n",
    "\n",
    "We know that, $A \\subseteq B$ iff $A\\cap B=A$, obviously $A\\cap A=A$, thus $A \\subseteq A$"
   ]
  },
  {
   "cell_type": "markdown",
   "metadata": {},
   "source": [
    "#### Prove that:\n",
    "<br>\n",
    "If $A \\subseteq B$ and $B \\subseteq A$ $\\to$ $A = B$\n",
    "<br>\n",
    "proof: If $A \\subseteq B$ then every element of A is included in B, and if $B \\subseteq A$ every element is included in A, meaning that A is same as B $\\rightarrow A=B$ "
   ]
  },
  {
   "cell_type": "markdown",
   "metadata": {},
   "source": [
    "#### Prove that:\n",
    "<br>\n",
    "if $B \\subset A$ then $A \\cap B = B$\n",
    "\n",
    "<br> proof:\n",
    "If $x \\in A \\cap B $ then $ x \\in A$ and $x\\in B$, in particular, $x \\in A$ this proves that $A\\cap B \\subset B$. Also, $x\\in B$ and $ x \\in A$ $\\rightarrow x\\in A \\cap B$, so $B \\subset A \\cap B$, thus $A \\cap B = B$"
   ]
  },
  {
   "cell_type": "markdown",
   "metadata": {},
   "source": [
    "#### Prove that:\n",
    "<br>\n",
    "$A \\cap B = B \\cap A$\n",
    "\n",
    "<br> proof:\n",
    "Let $x \\in A \\cap B \\rightarrow x \\in A and x \\in B \\rightarrow x \\in B and x \\in A \\rightarrow x \\in B \\cap A \\rightarrow A \\cap B \\subset B \\cap A$\n",
    "\n",
    "\n",
    "Let $y \\in B \\cap A \\rightarrow x \\in B and x \\in A \\rightarrow x \\in A and x \\in B \\rightarrow x \\in A \\cap B \\rightarrow B \\cap A \\subset A \\cap B $\n",
    "\n",
    "Thus, $A \\cap B = B \\cap A$"
   ]
  },
  {
   "cell_type": "markdown",
   "metadata": {},
   "source": [
    "#### Prove that:\n",
    "<br>\n",
    "if $B \\subset A$ then $A \\cup B = A$\n",
    "\n",
    "<br>proof: If $x \\in A \\cup B $ then $ x \\in A$ or $x\\in B$, this proves that $A\\cup B \\subset A$. Also, $x \\in B$ then by assumption that $B \\subset A$, $x \\in A$, so  $A \\cup B = A$"
   ]
  },
  {
   "cell_type": "markdown",
   "metadata": {},
   "source": [
    "#### Prove that:\n",
    "<br>\n",
    "$A \\cup B = B \\cup A$\n",
    "<br>proof: \n",
    "Let $x \\in A \\cup B \\rightarrow x \\in A or x \\in B \\rightarrow x \\in B or x \\in A \\rightarrow x \\in B \\cup A \\rightarrow A \\cup B \\subset B \\cup A$\n",
    "\n",
    "\n",
    "Let $y \\in B \\cup A \\rightarrow x \\in B or x \\in A \\rightarrow x \\in A or x \\in B \\rightarrow x \\in A \\cup B \\rightarrow B \\cup A \\subset A \\cup B $\n",
    "\n",
    "Thus, $A \\cup B = B \\cup A$"
   ]
  },
  {
   "cell_type": "markdown",
   "metadata": {},
   "source": [
    "#### Prove that:\n",
    "- for every injection $m:A \\to B$ and pair of functions $f, g :C \\to A$: if $m \\circ f = m \\circ g$ then $f = g$ and vice-versa\n",
    "- for every surjection $e:A \\to B$ and every pair of functions $f, g :B \\to C$: if $f \\circ e = g \\circ e$ then $f = g$ and vice-versa"
   ]
  },
  {
   "cell_type": "markdown",
   "metadata": {},
   "source": [
    "#### Prove that \n",
    "- composition of injections is injection itself\n",
    "- composition of surjections is surjection itself\n",
    "- composition of bijections is bijection itself\n",
    "<br>\n",
    "or give a counterexamples"
   ]
  },
  {
   "cell_type": "markdown",
   "metadata": {},
   "source": [
    "#### Prove that for each set $A$:\n",
    "- $A \\cong A$\n",
    "- if $B \\cong A$ then $B \\cong A$ for every pair of sets $A$ and $B$\n",
    "- if $A \\cong B$ and $B \\cong C$ then $A \\cong C$ for every triplet $A$, $B$ and $C$"
   ]
  },
  {
   "cell_type": "markdown",
   "metadata": {},
   "source": [
    "#### Prove that:\n",
    "<br>\n",
    "there exists a bijection between set of natural and even numbers"
   ]
  },
  {
   "cell_type": "markdown",
   "metadata": {},
   "source": [
    "#### Prove that:\n",
    "<br>\n",
    "if we have a bijection between two finite sets than they have an equal number of elements"
   ]
  },
  {
   "cell_type": "markdown",
   "metadata": {},
   "source": [
    "#### Prove that:\n",
    "<br>\n",
    "$A \\times B \\cong B \\times A$"
   ]
  },
  {
   "cell_type": "markdown",
   "metadata": {},
   "source": [
    "$\\cap_{i\\in I}A_i$ and $\\cup_{i\\in I}A_i$"
   ]
  },
  {
   "cell_type": "code",
   "execution_count": null,
   "metadata": {},
   "outputs": [],
   "source": [
    "# Inplement in python"
   ]
  },
  {
   "cell_type": "markdown",
   "metadata": {},
   "source": [
    "We can also define cartesian product of any \"number\" of sets $\\prod_{i \\in I}{A_i}$"
   ]
  },
  {
   "cell_type": "code",
   "execution_count": null,
   "metadata": {},
   "outputs": [],
   "source": [
    "# Inplement in python"
   ]
  },
  {
   "cell_type": "markdown",
   "metadata": {},
   "source": [
    "#### Prove that:\n",
    "<br>\n",
    "$$A \\cap (B \\cup C)=(A \\cap B) \\cup (A\\cap C)$$\n",
    "$$A \\cup (B \\cap C)=(A \\cup B) \\cap (A\\cup C)$$\n",
    "<br>proof: \n",
    "\n",
    "1. Let $x\\in A\\cap(B\\cup C)$\n",
    "\n",
    "$\\rightarrow$ $x\\in A$ and $x\\in (B\\cup C)$\n",
    "\n",
    "$\\rightarrow$ $x\\in A$ and ($x\\in B$ or $x\\in C$)\n",
    "\n",
    "$\\rightarrow$ ($x\\in A$ and $x\\in B$) or ($x\\in A$ and $x\\in C$)\n",
    "\n",
    "$\\rightarrow$ ($x\\in A\\cap B$) $\\cup$ ($x\\in A\\cap C$)\n",
    "\n",
    "2. Let $x\\in A\\cup(B \\cap C)$\n",
    "\n",
    "$\\rightarrow$ $x\\in A$ or ($x\\in B$ and $x\\in C$)\n",
    "\n",
    "$\\rightarrow$ ($x\\in A$ or $x\\in B$) and ($x\\in A$ or $x\\in C$)\n",
    "\n",
    "$\\rightarrow$ $x\\in (A \\cup B) \\cap (A\\cup C) $"
   ]
  },
  {
   "cell_type": "markdown",
   "metadata": {},
   "source": [
    "# Linear Algebra"
   ]
  },
  {
   "cell_type": "markdown",
   "metadata": {},
   "source": [
    "#### Prove that:\n",
    "<br>\n",
    "$(AB)^{T} = B^{T}A^{T}$ for each pair of matrices $A, B \\in \\mathbb{R}^{n \\times m}$\n",
    "<br>\n",
    "proof: \n",
    "\n",
    "$A=[-w_1-\n",
    "    -w_2-\n",
    "    .\n",
    "    .\n",
    "    .\n",
    "    -w_m-\n",
    "    ]$ ($w$ is a row vector)\n",
    "$B= [v_1, v_2, ... v_n]$\n",
    "so that $B^T=[-v_1-\n",
    "    -v_2-\n",
    "    .\n",
    "    .\n",
    "    .\n",
    "    -v_n-\n",
    "    ]$ ( $v$  is a row vector)\n",
    "$A^T=[w_1, w_2, ... w_m]$\n",
    "\n",
    "$ij(th)$ entry of $(AB)^T = ji(th) $entry of $AB=w_j\\cdot v_i$ \n",
    "\n",
    "$ij(th)$ entry of $(B^TA^T) = w_j \\cdot v_i$\n",
    "and they are the same"
   ]
  },
  {
   "cell_type": "markdown",
   "metadata": {},
   "source": [
    "## Functions on tensors"
   ]
  },
  {
   "cell_type": "markdown",
   "metadata": {},
   "source": [
    "#### Write combination for $XOR$ calculation"
   ]
  },
  {
   "cell_type": "code",
   "execution_count": null,
   "metadata": {},
   "outputs": [],
   "source": [
    "  A |B  | AB' or A'B\n",
    "----|---|-----------\n",
    " 0  | 0 |   0\n",
    " 0  | 1 |   1\n",
    " 1  | 0 |   1\n",
    " 1  | 1 |   0"
   ]
  }
 ],
 "metadata": {
  "kernelspec": {
   "display_name": "Python 3",
   "language": "python",
   "name": "python3"
  },
  "language_info": {
   "codemirror_mode": {
    "name": "ipython",
    "version": 3
   },
   "file_extension": ".py",
   "mimetype": "text/x-python",
   "name": "python",
   "nbconvert_exporter": "python",
   "pygments_lexer": "ipython3",
   "version": "3.7.3"
  }
 },
 "nbformat": 4,
 "nbformat_minor": 4
}
