{
 "cells": [
  {
   "cell_type": "code",
   "execution_count": null,
   "metadata": {},
   "outputs": [],
   "source": [
    "%load_ext autoreload\n",
    "%autoreload 2\n",
    "\n",
    "%matplotlib inline"
   ]
  },
  {
   "cell_type": "markdown",
   "metadata": {},
   "source": [
    "## Basic setup"
   ]
  },
  {
   "cell_type": "markdown",
   "metadata": {},
   "source": [
    "Create anaconda environment\n",
    "<br>\n",
    "```bash\n",
    "conda create -n ml python=3.7.4 jupyter\n",
    "```\n",
    "Install fastai library\n",
    "<br>\n",
    "```bash\n",
    "conda install -c pytorch -c fastai fastai\n",
    "```"
   ]
  },
  {
   "cell_type": "code",
   "execution_count": null,
   "metadata": {},
   "outputs": [],
   "source": [
    "!pip install https://github.com/ipython-contrib/jupyter_contrib_nbextensions/tarball/master\n",
    "!pip install jupyter_nbextensions_configurator\n",
    "!jupyter contrib nbextension install --user\n",
    "!jupyter nbextensions_configurator enable --user"
   ]
  },
  {
   "cell_type": "markdown",
   "metadata": {},
   "source": [
    "# Metric spaces"
   ]
  },
  {
   "cell_type": "markdown",
   "metadata": {},
   "source": [
    "#### Prove that:\n",
    "For every metric space (X, d):\n",
    "- For eny $\\mathcal{U} = \\{U | U$ is open in $(X, d)\\}$ holds $\\bigcup_{U \\in \\mathcal{U}} U$ is open in $(X, d)$\n",
    "- For eny two $U, V \\subset X$ open in $(X, d)$ holds: $U \\cap V$ is open in $(X, d)$\n",
    "- $X$ is open in $(X, d)$\n",
    "- $\\emptyset$ is open in $(X, d)$\n",
    "\n",
    "<br>proof:\n",
    "1. If we take any  $\\mathcal{U}\\in \\bigcup_{U \\in \\mathcal{U}}U$ since U is open, $ \\exists  \\epsilon >0$ such that neighbourhood (ball) $B_\\epsilon (\\mathcal{U})\\subseteq U_\\mathcal{U}$, then $B_\\epsilon \\subseteq \\bigcup_{U \\in \\mathcal{U}}U$. This holds for all $\\mathcal{U}\\in \\bigcup_{U \\in \\mathcal{U}}U$, so tha union is open.\n",
    "\n",
    "2. If we take $\\mathcal{x} \\in U\\bigcap V$, then $\\mathcal{x}\\in U, \\mathcal{x}\\in V$, since U and V are both open, $ \\exists  \\epsilon_1 , \\epsilon_2$ such that, $B\\epsilon_1(\\mathcal{x}) \\subseteq U and B\\epsilon_2 (\\mathcal{x})\\subseteq V$, is we pick $\\epsilon$ minimum from $\\epsilon_1 and \\epsilon_2$ we have $B_\\epsilon (\\mathcal{x})$, so $B_\\epsilon (\\mathcal{x})\\subseteq U,V$ thus, $B_\\epsilon (\\mathcal{x})\\subseteq  U\\bigcap V$ and $U\\bigcap V$ is open\n",
    "\n",
    "3. If we take $\\mathcal{x}\\in X$, for any $\\epsilon > 0$ $B_\\epsilon(\\mathcal{x})=\\{y\\in X|d(y,x)<\\epsilon\\}$, and $B_\\epsilon(\\mathcal{x})\\subseteq X$, thus X is an open set."
   ]
  },
  {
   "cell_type": "markdown",
   "metadata": {},
   "source": [
    "#### Prove that:\n",
    "- For eny finity set $(U)_{i=1}^{n}$ of open sets in $(X, d)$, $\\bigcap_{i=1}^{n}U$ is open in $(X, d)$\n",
    "\n",
    "proof: $\\mathcal{x} \\in (U)_{i=1}^{n}$, then $\\mathcal{x} \\in U_1, U_2 ... U_n$, since $U_i$ are all open, $\\exists \\epsilon_1, \\epsilon_2 ... \\epsilon_n$ such that  $B\\epsilon_1(\\mathcal{x})\\subseteq U_1, B\\epsilon_2(\\mathcal{x})\\subseteq U_2, ...B\\epsilon_n(\\mathcal{x})\\subseteq U_n$, if we take minimum $\\epsilon$, then $B\\epsilon(\\mathcal{x})\\subseteq U_1, U_2, ...U_n$, thus $B\\epsilon(\\mathcal{x})\\subseteq \\bigcap U_i$, thus it is open."
   ]
  },
  {
   "cell_type": "markdown",
   "metadata": {},
   "source": [
    "#### Prove that for set $U \\subset X$ is open if and only if for each point $x \\in U$ there exists the open neighbourhood $V$ of $x$ such that $V \\subset U$\n",
    "\n",
    "\n",
    "proof: If for every $\\mathcal{x} \\in U$ there exists open neighbourhood V such that $V \\subset U$, then $U$ is obviously open as well."
   ]
  },
  {
   "cell_type": "markdown",
   "metadata": {},
   "source": [
    "#### Prove that, closed ball is closed subset in $(X, d)$\n",
    "\n",
    "\n",
    "proof: For a ball $B_r (y)$, if its complement $B^-_r (y)$ is open, then $B_r (y)$ is closed. Suppose, $x \\in B^-_r (y)$, since $x$ is not in $B_r (y)$, $d(x, y)>r$ with $\\epsilon > 0$ such that $d(x, y)>r+\\epsilon$, thus, $B_r (y) \\bigcap B_\\epsilon(x) = \\emptyset$. If we assume that $B_r (y)  and B_\\epsilon(x) $ have common point $z$, from triangle inequality $d(x, y) < d(x,z)+d(z,y)<r+\\epsilon$ which contradicts $d(x, y)>r+\\epsilon$, thus, $B^-_r (y)$ is open and $B_r (y)$ is closed"
   ]
  },
  {
   "cell_type": "markdown",
   "metadata": {},
   "source": [
    "#### Prove that\n",
    "For every metric space (X, d):\n",
    "- For eny $\\mathcal{F} = \\{F | F$ is closed in $(X, d)\\}$ holds $\\bigcap_{F \\in \\mathcal{F}} F$ is closed in $(X, d)$\n",
    "- For eny two $F_1, F_2 \\subset X$ closed in $(X, d)$ holds: $F_1 \\cup F_2$ is closed in $(X, d)$\n",
    "- $X$ is closed in $(X, d)$\n",
    "- $\\emptyset$ is closed in $(X, d)$\n",
    "\n",
    "<br>proof: \n",
    "\n",
    "1. $(\\bigcap_{F \\in \\mathcal{F}} F)^-$ = $\\bigcup_{F \\in \\mathcal{F}} F$, and since union of open sets is an open set, then $(\\bigcap_{F \\in \\mathcal{F}} F)^-$ is open too, and $\\bigcap_{F \\in \\mathcal{F}} F)$ is closed.\n",
    "\n",
    "2. $C(F_1 \\cup F_2 ) = F_1 \\cap F_2$, since $F_1 \\cap F_2$ is open, $F_1 \\cup F_2$ is closed.\n",
    "\n"
   ]
  },
  {
   "cell_type": "markdown",
   "metadata": {},
   "source": [
    "#### Prove that:\n",
    "- For eny finity set $(F)_{i=1}^{n}$ of closed sets in $(X, d)$, $\\bigcup_{i=1}^{n}F$ is closed in $(X, d)$"
   ]
  },
  {
   "cell_type": "markdown",
   "metadata": {},
   "source": [
    "#### Prove that, if $F \\subset X$ is closed then $X - F$ is open in $(X, d)$ \n",
    "\n",
    "proof: If $F \\subset X$, then  $X - F = F^-$ and if $F$ is closed, then $X - F$ is open."
   ]
  },
  {
   "cell_type": "markdown",
   "metadata": {},
   "source": [
    "# Metrics in Euclidean spaces"
   ]
  },
  {
   "cell_type": "markdown",
   "metadata": {},
   "source": [
    "#### Prove that:\n",
    "- for every $u, v \\in \\mathbb{R}^{n}$: $d(u, v) \\geq 0$\n",
    "- for every $v \\in \\mathbb{R}^{n}$: $d(v, v) = 0$\n",
    "- for every $u, v \\in \\mathbb{R}^{n}$: $d(u, v) = d(v, u)$ (symmetry)\n",
    "- for every $u, v, w \\in \\mathbb{R}^{n}$: $d(u, w) \\leq d(v, u) + d(v, w)$ (triangle inequality)\n",
    "\n",
    "\n",
    "From the definition of metric spaces, all equalities hold."
   ]
  },
  {
   "cell_type": "markdown",
   "metadata": {},
   "source": [
    "#### Prove the same properties hold for $d(u, v) = ||u-v||_1$ ($||u-v||_1 = \\sum_{i = 1}^{n}|u_i - v_i|$)\n",
    "\n",
    "<br>proof:\n",
    "\n",
    "1-2. $d(u, v)=||u-v||\\geq 0$ and if $d(u, v)=0$ then $||u-v||=0, \\rightarrow u=v$\n",
    "\n",
    "3. $d(u, v) $= ||u-v||=||-(v-u)||=d(v, u)$\n",
    "\n",
    "4. $d(u, w) =||u-w||=||u-w+v-v||=||u-v+v-w||=||u-v||+||v-w||=d(u, v)+d(v, w)$ and $d(u, w)\\leq d(u, v)+d(v, w)$"
   ]
  },
  {
   "cell_type": "markdown",
   "metadata": {},
   "source": [
    "## Sequences and limits"
   ]
  },
  {
   "cell_type": "markdown",
   "metadata": {},
   "source": [
    "#### Prove that $x = \\lim_{n\\to\\infty}{x_n}$ in $(X, d)$ if and only if (iff) for every $r \\in \\mathbb{R}$ there exists $n_0 \\in \\mathbb{N}$ such that: $x_i \\in B(x, r)$ for every $i \\gt n_0$"
   ]
  },
  {
   "cell_type": "markdown",
   "metadata": {},
   "source": [
    "#### Prove that if $x = \\lim_{n\\to\\infty}{x_n}$ and $x \\notin \\{-\\infty, \\infty\\}$ then $(x_i)_{i=1}^{\\infty} = (x_1, x_2, \\dots, x_n)$ is a Cauchy sequence\n",
    "<br>\n",
    "For closed set $F \\subset \\mathbb{R}^n$ and convergent sequence $(x_i)_{i=1}^{\\infty} = (x_1, x_2, \\dots, x_n)$ such that there exists $n_0 \\in \\mathbb{N}$ such that $x_i \\in F$ for each $i \\gt n_0$ then: $\\lim_{n\\to\\infty}{x_n} \\in F$"
   ]
  },
  {
   "cell_type": "markdown",
   "metadata": {},
   "source": [
    "#### Prove that if $F$ is open from previous example, statement does not hold. "
   ]
  },
  {
   "cell_type": "markdown",
   "metadata": {},
   "source": [
    "#### Prove that inherited metric is a metric"
   ]
  },
  {
   "cell_type": "markdown",
   "metadata": {},
   "source": [
    "## Limits of functions"
   ]
  },
  {
   "cell_type": "markdown",
   "metadata": {},
   "source": [
    "Let $f:S \\to Y$ is function between subset $S \\subset X$ of a metric space $(X, d_x)$ and metric space $(Y, d_Y)$\n",
    "- We say that the limit of function $f:(S, d_x) \\to (Y, d_Y)$ between metric spaces in some limit point $c \\in X$ of the subset $S$ is $y \\in Y $if for each open neighborhood of $y \\in V \\subset Y$ there exists the open seighborhood of $c \\in U \\subset X$ such that $f(U \\cap S) \\subset V$\n",
    "<br>\n",
    "This definition is equiualent of definition:\n",
    "<br>\n",
    "- The limit of function $f:(S, d_X) \\to (Y, d_Y)$ between metric spaces in limit point $c \\in X$ of the subset $S$ is $y \\in Y $ if for each open ball $B(x, r) \\subset Y$ there exists the ball $B(c, l) \\subset X$ such that $f(B(c, l) \\cap S) \\subset B(y, r)$\n",
    "<br>\n",
    "or\n",
    "<br>\n",
    "- The limit of function $f:(S, d_X) \\to (Y, d_Y)$ between metric spaces in limit point $c \\in X$ of subset $S$ is $y \\in Y $ if for any $r \\in \\mathbb{R}$ there exists $l \\in \\mathbb{R}$ such that for every $x \\in S$ with $d_X(x, c) < l$ implies that $d_Y(f(x), y) < r$"
   ]
  },
  {
   "cell_type": "markdown",
   "metadata": {},
   "source": [
    "#### Prove that this three definitions are equiualent for eny function between eny two metric spaces"
   ]
  },
  {
   "cell_type": "markdown",
   "metadata": {},
   "source": [
    "## Continuous functions "
   ]
  },
  {
   "cell_type": "markdown",
   "metadata": {},
   "source": [
    "#### Prove that function is continuous in $c$ if for eny sequence $(x_n)_{n=1}^{\\infty} \\subset X$ such that $\\lim_{n \\to \\infty}x_n = c$ we have $\\lim_{n \\to \\infty}f(x_n) = f(c)$"
   ]
  },
  {
   "cell_type": "markdown",
   "metadata": {},
   "source": [
    "#### Prove that function is continuous if for every open set $V \\subset Y$ the $f^{-1}(V)$ is open in $X$"
   ]
  },
  {
   "cell_type": "markdown",
   "metadata": {},
   "source": [
    "#### Prove that function is continuous if for every closed set $F \\subset Y$ the $f^{-1}(F)$ is open in $X$"
   ]
  },
  {
   "cell_type": "markdown",
   "metadata": {},
   "source": [
    "#### Prove that any composition of continous functions is continous"
   ]
  },
  {
   "cell_type": "code",
   "execution_count": null,
   "metadata": {},
   "outputs": [],
   "source": []
  }
 ],
 "metadata": {
  "kernelspec": {
   "display_name": "Python 3",
   "language": "python",
   "name": "python3"
  },
  "language_info": {
   "codemirror_mode": {
    "name": "ipython",
    "version": 3
   },
   "file_extension": ".py",
   "mimetype": "text/x-python",
   "name": "python",
   "nbconvert_exporter": "python",
   "pygments_lexer": "ipython3",
   "version": "3.7.3"
  }
 },
 "nbformat": 4,
 "nbformat_minor": 4
}
